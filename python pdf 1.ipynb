{
 "cells": [
  {
   "cell_type": "code",
   "execution_count": 1,
   "metadata": {},
   "outputs": [
    {
     "name": "stdout",
     "output_type": "stream",
     "text": [
      "NOT WEIRD\n"
     ]
    }
   ],
   "source": [
    "#1 st question\n",
    "\n",
    "n=int(input(\"enter a number:\"))\n",
    "if n>0:\n",
    "    if n%2!=0:\n",
    "        print('WEIRD')\n",
    "    elif n%2==0 and (n>=2 and n<=5):\n",
    "        print(\"NOT WEIRD\")\n",
    "    elif n%2==0 and (n>=6 and n<=20):\n",
    "        print('WEIRD')\n",
    "    elif n%2==0 and n>20:\n",
    "        print('NOT WEIRD')"
   ]
  },
  {
   "cell_type": "code",
   "execution_count": 2,
   "metadata": {},
   "outputs": [
    {
     "name": "stdout",
     "output_type": "stream",
     "text": [
      "The total fee for 599 days of book usage is: Rs. 2995\n"
     ]
    }
   ],
   "source": [
    "#2nd question\n",
    "\n",
    "n = int(input(\"Enter the number of days : \"))\n",
    "fee = 0\n",
    "if n<= 5:\n",
    "    fee = n * 2\n",
    "elif 6 <= n <= 10:\n",
    "    fee = n * 3\n",
    "elif 11 <= n <= 15:\n",
    "    fee = n * 4\n",
    "else: \n",
    "    fee = n * 5\n",
    "print(f\"The total fee for {n} days of book usage is: Rs. {fee}\")"
   ]
  },
  {
   "cell_type": "code",
   "execution_count": 5,
   "metadata": {},
   "outputs": [
    {
     "name": "stdout",
     "output_type": "stream",
     "text": [
      "x is not a vowel\n"
     ]
    }
   ],
   "source": [
    "#3rd question\n",
    "\n",
    "vow = \"aeiouAEIOU\"\n",
    "\n",
    "char = input('Enter a character: ')\n",
    "\n",
    "if char in vow:\n",
    "    print(f\"{char} is a vowel\")\n",
    "else:\n",
    "    print(f\"{char} is not a vowel\")"
   ]
  },
  {
   "cell_type": "code",
   "execution_count": null,
   "metadata": {},
   "outputs": [],
   "source": []
  }
 ],
 "metadata": {
  "kernelspec": {
   "display_name": "Python 3",
   "language": "python",
   "name": "python3"
  },
  "language_info": {
   "codemirror_mode": {
    "name": "ipython",
    "version": 3
   },
   "file_extension": ".py",
   "mimetype": "text/x-python",
   "name": "python",
   "nbconvert_exporter": "python",
   "pygments_lexer": "ipython3",
   "version": "3.7.8"
  }
 },
 "nbformat": 4,
 "nbformat_minor": 2
}
